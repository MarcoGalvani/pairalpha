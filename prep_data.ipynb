{
 "cells": [
  {
   "cell_type": "code",
   "execution_count": 1,
   "metadata": {},
   "outputs": [
    {
     "ename": "ModuleNotFoundError",
     "evalue": "No module named 'yfinance'",
     "output_type": "error",
     "traceback": [
      "\u001b[1;31m---------------------------------------------------------------------------\u001b[0m",
      "\u001b[1;31mModuleNotFoundError\u001b[0m                       Traceback (most recent call last)",
      "Input \u001b[1;32mIn [1]\u001b[0m, in \u001b[0;36m<cell line: 3>\u001b[1;34m()\u001b[0m\n\u001b[0;32m      1\u001b[0m \u001b[38;5;28;01mimport\u001b[39;00m \u001b[38;5;21;01mpandas\u001b[39;00m \u001b[38;5;28;01mas\u001b[39;00m \u001b[38;5;21;01mpd\u001b[39;00m\n\u001b[0;32m      2\u001b[0m \u001b[38;5;28;01mimport\u001b[39;00m \u001b[38;5;21;01mos\u001b[39;00m\n\u001b[1;32m----> 3\u001b[0m \u001b[38;5;28;01mimport\u001b[39;00m \u001b[38;5;21;01myfinance\u001b[39;00m \u001b[38;5;28;01mas\u001b[39;00m \u001b[38;5;21;01myf\u001b[39;00m\n",
      "\u001b[1;31mModuleNotFoundError\u001b[0m: No module named 'yfinance'"
     ]
    }
   ],
   "source": [
    "import pandas as pd\n",
    "import os\n",
    "import yfinance as yf"
   ]
  },
  {
   "cell_type": "code",
   "execution_count": 3,
   "metadata": {},
   "outputs": [],
   "source": [
    "ticks_snp = pd.read_csv('data_to_prep/raw/S&P500_constituents.csv')['Symbol'].values"
   ]
  },
  {
   "cell_type": "code",
   "execution_count": 4,
   "metadata": {},
   "outputs": [],
   "source": [
    "in_path = 'data/raw/stocks'\n",
    "out_path = 'data/processed'\n",
    "\n",
    "for col in ['Open', 'Close', 'High', 'Low', 'Volume']:\n",
    "    dfs = []\n",
    "    for tick in ticks_snp: # Subset to stocks in S&P500\n",
    "        file_name = tick + '.csv'\n",
    "        file_path = os.path.join(in_path, file_name)\n",
    "        if os.path.exists(file_path):\n",
    "            df = pd.read_csv(file_path, index_col=0)\n",
    "            # Subset to Year 2018-2019\n",
    "            df_sub = df[[col]][(df.index > '2018') & (df.index < '2020')].round(2)\n",
    "            df_sub.columns = [tick]\n",
    "            dfs.append(df_sub)\n",
    "    df_comb = pd.concat(dfs, axis=1).sort_index()\n",
    "    df_comb = df_comb[sorted(df_comb.columns)].dropna(how='all')\n",
    "    df_comb.to_csv(os.path.join(out_path, col + '.csv'))"
   ]
  },
  {
   "cell_type": "code",
   "execution_count": 5,
   "metadata": {},
   "outputs": [],
   "source": [
    "df_open = pd.read_csv(os.path.join(out_path, 'Open.csv'), index_col=0)\n",
    "df_open_forward1 = df_open.shift(periods=-1)\n",
    "df_open_forward2 = df_open.shift(periods=-2)"
   ]
  },
  {
   "cell_type": "code",
   "execution_count": 6,
   "metadata": {},
   "outputs": [],
   "source": [
    "forward_return = (df_open_forward1 / df_open_forward2).round(4)\n",
    "forward_return.to_csv(os.path.join(out_path, 'ForwardReturn.csv'))"
   ]
  }
 ],
 "metadata": {
  "kernelspec": {
   "display_name": "Python 3 (ipykernel)",
   "language": "python",
   "name": "python3"
  },
  "language_info": {
   "codemirror_mode": {
    "name": "ipython",
    "version": 3
   },
   "file_extension": ".py",
   "mimetype": "text/x-python",
   "name": "python",
   "nbconvert_exporter": "python",
   "pygments_lexer": "ipython3",
   "version": "3.9.12"
  }
 },
 "nbformat": 4,
 "nbformat_minor": 2
}
